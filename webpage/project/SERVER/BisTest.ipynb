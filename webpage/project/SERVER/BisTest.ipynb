{
 "cells": [
  {
   "cell_type": "code",
   "execution_count": 4,
   "metadata": {},
   "outputs": [
    {
     "name": "stdout",
     "output_type": "stream",
     "text": [
      "Accuracy: 0.87\n",
      "\n",
      "Classification Report:\n",
      "              precision    recall  f1-score   support\n",
      "\n",
      "           0       0.75      0.27      0.40        11\n",
      "           1       0.94      0.97      0.95        32\n",
      "           2       0.82      0.97      0.89        32\n",
      "\n",
      "    accuracy                           0.87        75\n",
      "   macro avg       0.84      0.74      0.75        75\n",
      "weighted avg       0.86      0.87      0.84        75\n",
      "\n"
     ]
    },
    {
     "data": {
      "text/plain": [
       "['feature_columns.pkl']"
      ]
     },
     "execution_count": 4,
     "metadata": {},
     "output_type": "execute_result"
    }
   ],
   "source": [
    "# model_train.py\n",
    "import pandas as pd\n",
    "from sklearn.model_selection import train_test_split\n",
    "from sklearn.ensemble import RandomForestClassifier\n",
    "from sklearn.metrics import accuracy_score, classification_report\n",
    "from sklearn.impute import SimpleImputer\n",
    "from sklearn.preprocessing import LabelEncoder\n",
    "import joblib\n",
    "\n",
    "# Load data\n",
    "df = pd.read_csv('D:\\oasis_longitudinal.csv')\n",
    "\n",
    "# Preprocessing\n",
    "df = df.drop(['Subject ID', 'MRI ID'], axis=1)\n",
    "\n",
    "# Convert categorical variables\n",
    "df['M/F'] = df['M/F'].map({'M': 1, 'F': 0})\n",
    "df['Hand'] = df['Hand'].map({'R': 1, 'L': 0})\n",
    "\n",
    "# Handle missing values\n",
    "df = df.dropna(subset=['Group'])  # Remove rows with missing target\n",
    "\n",
    "# Prepare features and target\n",
    "X = df.drop('Group', axis=1)\n",
    "y = df['Group']\n",
    "\n",
    "# Encode target variable\n",
    "le = LabelEncoder()\n",
    "y_encoded = le.fit_transform(y)\n",
    "\n",
    "# Split data\n",
    "X_train, X_test, y_train, y_test = train_test_split(X, y_encoded, test_size=0.2, random_state=42)\n",
    "\n",
    "# Impute missing values\n",
    "imputer = SimpleImputer(strategy='mean')\n",
    "X_train_imputed = imputer.fit_transform(X_train)\n",
    "X_test_imputed = imputer.transform(X_test)\n",
    "\n",
    "# Train model\n",
    "model = RandomForestClassifier(n_estimators=100, random_state=42)\n",
    "model.fit(X_train_imputed, y_train)\n",
    "\n",
    "# Evaluate\n",
    "y_pred = model.predict(X_test_imputed)\n",
    "accuracy = accuracy_score(y_test, y_pred)\n",
    "print(f\"Accuracy: {accuracy:.2f}\")\n",
    "print(\"\\nClassification Report:\")\n",
    "print(classification_report(y_test, y_pred))\n",
    "\n",
    "# Save artifacts\n",
    "joblib.dump(model, 'model.pkl')\n",
    "joblib.dump(imputer, 'imputer.pkl')\n",
    "joblib.dump(le, 'label_encoder.pkl')\n",
    "joblib.dump(X.columns.tolist(), 'feature_columns.pkl')"
   ]
  }
 ],
 "metadata": {
  "kernelspec": {
   "display_name": "Python 3",
   "language": "python",
   "name": "python3"
  },
  "language_info": {
   "codemirror_mode": {
    "name": "ipython",
    "version": 3
   },
   "file_extension": ".py",
   "mimetype": "text/x-python",
   "name": "python",
   "nbconvert_exporter": "python",
   "pygments_lexer": "ipython3",
   "version": "3.11.7"
  }
 },
 "nbformat": 4,
 "nbformat_minor": 2
}
